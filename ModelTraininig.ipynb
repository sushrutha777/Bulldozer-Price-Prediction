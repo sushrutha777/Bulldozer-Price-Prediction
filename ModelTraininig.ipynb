{
  "cells": [
    {
      "cell_type": "code",
      "execution_count": 1,
      "id": "543c09d5-fde8-4462-b100-c2c381261e0e",
      "metadata": {
        "id": "543c09d5-fde8-4462-b100-c2c381261e0e"
      },
      "outputs": [],
      "source": [
        "import numpy as np\n",
        "import pandas as pd\n",
        "import matplotlib.pyplot as plt\n",
        "import seaborn as sns"
      ]
    },
    {
      "cell_type": "code",
      "execution_count": 3,
      "id": "8566ab95-ba00-4c49-b2fc-d9075e2b4058",
      "metadata": {
        "id": "8566ab95-ba00-4c49-b2fc-d9075e2b4058",
        "outputId": "4f985d3f-d0c5-4a1d-b066-dff10cfbbe5e",
        "colab": {
          "base_uri": "https://localhost:8080/",
          "height": 106
        }
      },
      "outputs": [
        {
          "output_type": "error",
          "ename": "SyntaxError",
          "evalue": "invalid syntax. Perhaps you forgot a comma? (<ipython-input-3-05501da6af78>, line 1)",
          "traceback": [
            "\u001b[0;36m  File \u001b[0;32m\"<ipython-input-3-05501da6af78>\"\u001b[0;36m, line \u001b[0;32m1\u001b[0m\n\u001b[0;31m    df=pd.read_csv(\"!wget \"https://raw.githubusercontent.com/sushrutha777/Bulldozer-Price-Prediction/main/data.csv\"\")\u001b[0m\n\u001b[0m                   ^\u001b[0m\n\u001b[0;31mSyntaxError\u001b[0m\u001b[0;31m:\u001b[0m invalid syntax. Perhaps you forgot a comma?\n"
          ]
        }
      ],
      "source": [
        "df=pd.read_csv(\"!wget \"https://raw.githubusercontent.com/sushrutha777/Bulldozer-Price-Prediction/main/data.csv\"\")"
      ]
    },
    {
      "cell_type": "code",
      "execution_count": null,
      "id": "bf078a31-1cea-4d05-895e-7e03acc645fe",
      "metadata": {
        "id": "bf078a31-1cea-4d05-895e-7e03acc645fe"
      },
      "outputs": [],
      "source": [
        "df.head()"
      ]
    },
    {
      "cell_type": "code",
      "execution_count": null,
      "id": "aa58e94a-4c4f-46d5-a4c9-11ab7f18fba6",
      "metadata": {
        "id": "aa58e94a-4c4f-46d5-a4c9-11ab7f18fba6"
      },
      "outputs": [],
      "source": [
        "corr_matrix = df.corr()\n",
        "plt.figure(figsize=(12, 8))\n",
        "sns.heatmap(corr_matrix, cmap=\"coolwarm\", annot=False, linewidths=0.5)\n",
        "plt.title(\"Feature Correlation Heatmap\")\n",
        "plt.show()"
      ]
    },
    {
      "cell_type": "code",
      "execution_count": null,
      "id": "1b144a0d-a8fa-40c5-b5e7-4c5d72d498d3",
      "metadata": {
        "id": "1b144a0d-a8fa-40c5-b5e7-4c5d72d498d3"
      },
      "outputs": [],
      "source": [
        "X = df.drop('SalePrice',axis=1)\n",
        "y = df['SalePrice']"
      ]
    },
    {
      "cell_type": "code",
      "execution_count": null,
      "id": "4ab6de11-89fd-4cf7-921e-e33585e2c26b",
      "metadata": {
        "id": "4ab6de11-89fd-4cf7-921e-e33585e2c26b"
      },
      "outputs": [],
      "source": [
        "X"
      ]
    },
    {
      "cell_type": "code",
      "execution_count": null,
      "id": "bb9418f1-5baa-47f0-95a6-0d79a34e3971",
      "metadata": {
        "id": "bb9418f1-5baa-47f0-95a6-0d79a34e3971"
      },
      "outputs": [],
      "source": [
        "y"
      ]
    },
    {
      "cell_type": "code",
      "execution_count": null,
      "id": "10492841-885b-48eb-9cdd-fe32422e44cc",
      "metadata": {
        "id": "10492841-885b-48eb-9cdd-fe32422e44cc"
      },
      "outputs": [],
      "source": [
        "from sklearn.model_selection import train_test_split\n",
        "X_train,X_test,y_train,y_test = train_test_split(X, y, test_size=0.2, random_state=42)"
      ]
    },
    {
      "cell_type": "markdown",
      "id": "ea237de7-eb61-4ae0-80e7-54fcd2175efa",
      "metadata": {
        "id": "ea237de7-eb61-4ae0-80e7-54fcd2175efa"
      },
      "source": [
        "X_train.shape"
      ]
    },
    {
      "cell_type": "code",
      "execution_count": null,
      "id": "c54e91e5-d388-4854-afd4-fad7f94eb70f",
      "metadata": {
        "id": "c54e91e5-d388-4854-afd4-fad7f94eb70f"
      },
      "outputs": [],
      "source": [
        "y_train.shape"
      ]
    },
    {
      "cell_type": "code",
      "execution_count": null,
      "id": "ba88e4ee-1127-4cac-a42c-5d7fc6d5878f",
      "metadata": {
        "id": "ba88e4ee-1127-4cac-a42c-5d7fc6d5878f"
      },
      "outputs": [],
      "source": [
        "X_test.shape"
      ]
    },
    {
      "cell_type": "code",
      "execution_count": null,
      "id": "3835ed8d-833a-4f77-8390-f02b93a57de9",
      "metadata": {
        "id": "3835ed8d-833a-4f77-8390-f02b93a57de9"
      },
      "outputs": [],
      "source": [
        "y_test.shape"
      ]
    },
    {
      "cell_type": "markdown",
      "id": "6f98c8f3-8861-466a-bf83-aa1350189be0",
      "metadata": {
        "id": "6f98c8f3-8861-466a-bf83-aa1350189be0"
      },
      "source": [
        "## Model Training"
      ]
    },
    {
      "cell_type": "code",
      "execution_count": null,
      "id": "90d847d8-e6ae-4dc3-ab8f-6250c511cbcc",
      "metadata": {
        "id": "90d847d8-e6ae-4dc3-ab8f-6250c511cbcc"
      },
      "outputs": [],
      "source": [
        "pip install xgboost"
      ]
    },
    {
      "cell_type": "code",
      "execution_count": null,
      "id": "bf771a31-2912-44d1-9dd7-05d4477722d6",
      "metadata": {
        "id": "bf771a31-2912-44d1-9dd7-05d4477722d6"
      },
      "outputs": [],
      "source": [
        "from sklearn.ensemble import RandomForestRegressor,AdaBoostRegressor,GradientBoostingRegressor\n",
        "from xgboost import XGBRegressor\n",
        "from sklearn.linear_model import LinearRegression, Ridge, Lasso, ElasticNet\n",
        "from sklearn.tree import DecisionTreeRegressor\n",
        "from sklearn.metrics import r2_score, mean_absolute_error, mean_squared_error"
      ]
    },
    {
      "cell_type": "code",
      "execution_count": null,
      "id": "dfe02c31-5572-425a-8175-fb3eac179084",
      "metadata": {
        "id": "dfe02c31-5572-425a-8175-fb3eac179084"
      },
      "outputs": [],
      "source": [
        "##Create a Function to Evaluate Model\n",
        "def evaluate_model(true, predicted):\n",
        "    mae = mean_absolute_error(true, predicted)\n",
        "    mse = mean_squared_error(true, predicted)\n",
        "    rmse = np.sqrt(mean_squared_error(true, predicted))\n",
        "    r2_square = r2_score(true, predicted)\n",
        "    return mae, rmse, r2_square"
      ]
    },
    {
      "cell_type": "code",
      "execution_count": null,
      "id": "74a96de1-9fff-4888-a9d5-448682ab1bc2",
      "metadata": {
        "id": "74a96de1-9fff-4888-a9d5-448682ab1bc2"
      },
      "outputs": [],
      "source": [
        "## Beginning Model Training\n",
        "models = {\n",
        "    \"Linear Regression\": LinearRegression(),\n",
        "    \"Lasso\": Lasso(),\n",
        "    \"Ridge\": Ridge(),\n",
        "    \"ElasticNet\": ElasticNet(),\n",
        "    \"Decision Tree\": DecisionTreeRegressor(),\n",
        "    \"Random Forest Regressor\": RandomForestRegressor(n_estimators=50, max_depth=10),\n",
        "    \"AdaBoost Regressor\": AdaBoostRegressor(n_estimators=50),\n",
        "    \"Gradient Boosting Regressor\": GradientBoostingRegressor(n_estimators=50, max_depth=5),\n",
        "    \"XGBoost Regressor\": XGBRegressor(n_estimators=50, max_depth=5),\n",
        "}\n",
        "\n",
        "for i in range(len(list(models))):\n",
        "    model = list(models.values())[i]\n",
        "    model.fit(X_train, y_train) # Train model\n",
        "\n",
        "    # Make predictions\n",
        "    y_train_pred = model.predict(X_train)\n",
        "    y_test_pred = model.predict(X_test)\n",
        "\n",
        "    # Evaluate Train and Test dataset\n",
        "    model_train_mae , model_train_rmse, model_train_r2 = evaluate_model(y_train, y_train_pred)\n",
        "\n",
        "    model_test_mae , model_test_rmse, model_test_r2 = evaluate_model(y_test, y_test_pred)\n",
        "\n",
        "\n",
        "    print(list(models.keys())[i])\n",
        "\n",
        "    print('Model performance for Training set')\n",
        "    print(\"- Root Mean Squared Error: {:.4f}\".format(model_train_rmse))\n",
        "    print(\"- Mean Absolute Error: {:.4f}\".format(model_train_mae))\n",
        "    print(\"- R2 Score: {:.4f}\".format(model_train_r2))\n",
        "\n",
        "    print('----------------------------------')\n",
        "\n",
        "    print('Model performance for Test set')\n",
        "    print(\"- Root Mean Squared Error: {:.4f}\".format(model_test_rmse))\n",
        "    print(\"- Mean Absolute Error: {:.4f}\".format(model_test_mae))\n",
        "    print(\"- R2 Score: {:.4f}\".format(model_test_r2))\n",
        "\n",
        "    print('='*35)\n",
        "    print('\\n')"
      ]
    },
    {
      "cell_type": "markdown",
      "id": "8ee73b46-a96a-4fc8-b0bb-69a64868fc8a",
      "metadata": {
        "id": "8ee73b46-a96a-4fc8-b0bb-69a64868fc8a"
      },
      "source": [
        "## Hyper parameter Tuning"
      ]
    },
    {
      "cell_type": "code",
      "execution_count": null,
      "id": "00a1ed54-d73e-415b-83bc-b3e3f1a761bc",
      "metadata": {
        "id": "00a1ed54-d73e-415b-83bc-b3e3f1a761bc"
      },
      "outputs": [],
      "source": [
        "xg_params = {\n",
        "    'n_estimators': [100, 500],\n",
        "    'learning_rate': [0.01, 0.1],\n",
        "    'max_depth': [3, 5],\n",
        "    'subsample': [0.7, 1.0],\n",
        "    'colsample_bytree': [0.7, 1.0]\n",
        "}"
      ]
    },
    {
      "cell_type": "code",
      "execution_count": null,
      "id": "daab8c3c-72c7-4073-bc9b-7902b911baaf",
      "metadata": {
        "id": "daab8c3c-72c7-4073-bc9b-7902b911baaf"
      },
      "outputs": [],
      "source": [
        "# Models list for Hyperparameter tuning\n",
        "randomcv_models = [\n",
        "    ('XGBoost', XGBRegressor(objective='reg:squarederror', random_state=42), xg_params),\n",
        "]"
      ]
    },
    {
      "cell_type": "code",
      "execution_count": null,
      "id": "04eff02e-d9d2-48b5-b0b1-1af8bb8b38ff",
      "metadata": {
        "id": "04eff02e-d9d2-48b5-b0b1-1af8bb8b38ff"
      },
      "outputs": [],
      "source": [
        "from sklearn.model_selection import RandomizedSearchCV\n",
        "random = RandomizedSearchCV(\n",
        "    estimator=model,\n",
        "    param_distributions=params,\n",
        "    n_iter=10,\n",
        "    cv=2,\n",
        "    verbose=1,\n",
        "    n_jobs=-1,\n",
        "    random_state=42\n",
        ")\n",
        "random.fit(X_train, y_train)\n",
        "# Store the best parameters\n",
        "model_param[model_name] = random.best_params_\n",
        "# Print the best parameters\n",
        "print(f\"---------------- Best Params for {model_name} -------------------\")\n",
        "print(model_param[model_name])"
      ]
    },
    {
      "cell_type": "code",
      "execution_count": null,
      "id": "449a8ff6-6031-480b-a07e-2aa88bf77a8a",
      "metadata": {
        "id": "449a8ff6-6031-480b-a07e-2aa88bf77a8a"
      },
      "outputs": [],
      "source": []
    },
    {
      "cell_type": "code",
      "execution_count": null,
      "id": "9d120d11-699d-40b7-b1cb-ed44555fc138",
      "metadata": {
        "id": "9d120d11-699d-40b7-b1cb-ed44555fc138"
      },
      "outputs": [],
      "source": []
    },
    {
      "cell_type": "code",
      "execution_count": null,
      "id": "fd35d785-0f0a-4bf5-ad0d-e4c0cf93b021",
      "metadata": {
        "id": "fd35d785-0f0a-4bf5-ad0d-e4c0cf93b021"
      },
      "outputs": [],
      "source": []
    },
    {
      "cell_type": "code",
      "execution_count": null,
      "id": "5735a80c-3f81-4fd3-830d-c162157684c1",
      "metadata": {
        "id": "5735a80c-3f81-4fd3-830d-c162157684c1"
      },
      "outputs": [],
      "source": []
    }
  ],
  "metadata": {
    "kernelspec": {
      "display_name": "Python 3",
      "name": "python3"
    },
    "language_info": {
      "codemirror_mode": {
        "name": "ipython",
        "version": 3
      },
      "file_extension": ".py",
      "mimetype": "text/x-python",
      "name": "python",
      "nbconvert_exporter": "python",
      "pygments_lexer": "ipython3",
      "version": "3.12.4"
    },
    "colab": {
      "provenance": [],
      "gpuType": "T4"
    },
    "accelerator": "GPU"
  },
  "nbformat": 4,
  "nbformat_minor": 5
}